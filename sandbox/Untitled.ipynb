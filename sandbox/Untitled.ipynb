{
 "cells": [
  {
   "cell_type": "code",
   "execution_count": 1,
   "metadata": {
    "collapsed": true
   },
   "outputs": [],
   "source": [
    "import sys\n",
    "import select\n",
    "import re"
   ]
  },
  {
   "cell_type": "markdown",
   "metadata": {},
   "source": [
    "The below imports will only work if you have ros and baxter tools installed and working, which isn't the case on my laptop."
   ]
  },
  {
   "cell_type": "code",
   "execution_count": null,
   "metadata": {
    "collapsed": false
   },
   "outputs": [],
   "source": [
    "import rospy\n",
    "import baxter_interface"
   ]
  },
  {
   "cell_type": "markdown",
   "metadata": {},
   "source": [
    "I made this function when I was trying to make you type 'quit' to exit the command-line tool.  But I just caved and said 'Press &lt;CTRL&gt;-C to exit'"
   ]
  },
  {
   "cell_type": "code",
   "execution_count": 2,
   "metadata": {
    "collapsed": true
   },
   "outputs": [],
   "source": [
    "def tryGetLine(inStream):\n",
    "    'Returns a line if there is one, else an empty string'\n",
    "    line = ''\n",
    "    fd = inStream.fileno()\n",
    "    timeout = 0.01 # seconds\n",
    "    readyToRead, _, _ = select.select([fd], [], [], timeout)\n",
    "    if fd in readyToRead:\n",
    "        line = inStream.readline()\n",
    "    return line[:-1]  # Remove the newline"
   ]
  },
  {
   "cell_type": "code",
   "execution_count": 3,
   "metadata": {
    "collapsed": true
   },
   "outputs": [],
   "source": [
    "def connectToBaxter():\n",
    "    pass"
   ]
  },
  {
   "cell_type": "code",
   "execution_count": 4,
   "metadata": {
    "collapsed": true
   },
   "outputs": [],
   "source": [
    "def waitForButtonPress():\n",
    "    pass"
   ]
  },
  {
   "cell_type": "markdown",
   "metadata": {},
   "source": [
    "This function will save basically any dictionary to a file in python notation."
   ]
  },
  {
   "cell_type": "code",
   "execution_count": 5,
   "metadata": {
    "collapsed": true
   },
   "outputs": [],
   "source": [
    "def saveJointAngles(filename, angles):\n",
    "    '''\n",
    "    Saves the angles dictionary to filename in python notation\n",
    "    \n",
    "    Will save it into an array of dictionaries called data.\n",
    "    For example\n",
    "    \n",
    "    saveJointAngles('out.py', {'a': 1, 'b': 2})\n",
    "    \n",
    "    will write to 'out.py':\n",
    "    data = []\n",
    "    data.append({\n",
    "        'a': 1,\n",
    "        'b': 2,\n",
    "        })\n",
    "    '''\n",
    "    string = str(angles)\n",
    "    string = string.replace('{', '')\n",
    "    string = string.replace('}', '')\n",
    "    split = string.split(', ')\n",
    "    split.append('})')\n",
    "    isDataDefined = False\n",
    "    try:\n",
    "        with open(filename, 'r') as infile:\n",
    "            for line in infile:\n",
    "                if re.match('data =', line):\n",
    "                    isDataDefined = True\n",
    "                    break\n",
    "    except IOError:\n",
    "        pass # Ignore the problem that the file doesn't yet exist\n",
    "    with open(filename, 'a') as outfile:\n",
    "        if not isDataDefined:\n",
    "            outfile.write('data = []\\n')\n",
    "        outfile.write('\\n')\n",
    "        outfile.write('data.append({\\n    ')\n",
    "        outfile.write(',\\n    '.join(split))\n",
    "        outfile.write('\\n')"
   ]
  },
  {
   "cell_type": "code",
   "execution_count": 6,
   "metadata": {
    "collapsed": true
   },
   "outputs": [],
   "source": [
    "def main():\n",
    "    ''\n",
    "    # Connect to Baxter\n",
    "    leftArm, rightArm = connectToBaxter()\n",
    "    \n",
    "    # Record arm positions\n",
    "    print 'Press <CTRL>-C to quit'\n",
    "    while True:\n",
    "        # Read button presses and see if we should record\n",
    "        whichArm, action = waitForButtonPress()\n",
    "        currentArm = leftArm if whichArm == 'left' else rightArm\n",
    "        jointAngles = currentArm.joint_angles()\n",
    "        saveJointAngles(whichArm + 'SavedJoints.py', jointAngles)"
   ]
  },
  {
   "cell_type": "code",
   "execution_count": null,
   "metadata": {
    "collapsed": false
   },
   "outputs": [],
   "source": [
    "if __name__ == '__main__':\n",
    "    sys.exit(main())"
   ]
  },
  {
   "cell_type": "markdown",
   "metadata": {},
   "source": [
    "First, let's make sure that out.py doesn't exist"
   ]
  },
  {
   "cell_type": "code",
   "execution_count": 22,
   "metadata": {
    "collapsed": false
   },
   "outputs": [],
   "source": [
    "import os\n",
    "try:\n",
    "    os.remove('out.py')\n",
    "except OSError:\n",
    "    pass # Ignore if the file doesn't exist"
   ]
  },
  {
   "cell_type": "markdown",
   "metadata": {},
   "source": [
    "Now, check to see that I can call this multiple times and it creates only one data array with multiple dictionaries in it."
   ]
  },
  {
   "cell_type": "code",
   "execution_count": 28,
   "metadata": {
    "collapsed": false
   },
   "outputs": [],
   "source": [
    "saveJointAngles('out.py', {'a': 1.02, 'b': 3.333, 'c': True})\n",
    "saveJointAngles('out.py', {'abc': 'jumbo shrimp', 'tree': 'tall', 'seed': True})"
   ]
  },
  {
   "cell_type": "code",
   "execution_count": 29,
   "metadata": {
    "collapsed": false
   },
   "outputs": [
    {
     "name": "stdout",
     "output_type": "stream",
     "text": [
      "data = []\n",
      "\n",
      "data.append({\n",
      "    'a': 1.02,\n",
      "    'c': True,\n",
      "    'b': 3.333,\n",
      "    })\n",
      "\n",
      "data.append({\n",
      "    'abc': 'jumbo shrimp',\n",
      "    'tree': 'tall',\n",
      "    'seed': True,\n",
      "    })\n",
      "\n",
      "data.append({\n",
      "    'a': 1.02,\n",
      "    'c': True,\n",
      "    'b': 3.333,\n",
      "    })\n",
      "\n",
      "data.append({\n",
      "    'abc': 'jumbo shrimp',\n",
      "    'tree': 'tall',\n",
      "    'seed': True,\n",
      "    })\n",
      "\n",
      "data.append({\n",
      "    'a': 1.02,\n",
      "    'c': True,\n",
      "    'b': 3.333,\n",
      "    })\n",
      "\n",
      "data.append({\n",
      "    'abc': 'jumbo shrimp',\n",
      "    'tree': 'tall',\n",
      "    'seed': True,\n",
      "    })\n",
      "\n"
     ]
    }
   ],
   "source": [
    "with open('out.py', 'r') as infile:\n",
    "    print infile.read()"
   ]
  },
  {
   "cell_type": "markdown",
   "metadata": {},
   "source": [
    "Let's see if we can import it and use it"
   ]
  },
  {
   "cell_type": "code",
   "execution_count": 31,
   "metadata": {
    "collapsed": false
   },
   "outputs": [
    {
     "data": {
      "text/plain": [
       "<module 'out' from 'out.pyc'>"
      ]
     },
     "execution_count": 31,
     "metadata": {},
     "output_type": "execute_result"
    }
   ],
   "source": [
    "import out\n",
    "reload(out)"
   ]
  },
  {
   "cell_type": "code",
   "execution_count": 32,
   "metadata": {
    "collapsed": false
   },
   "outputs": [
    {
     "data": {
      "text/plain": [
       "[{'a': 1.02, 'b': 3.333, 'c': True},\n",
       " {'abc': 'jumbo shrimp', 'seed': True, 'tree': 'tall'},\n",
       " {'a': 1.02, 'b': 3.333, 'c': True},\n",
       " {'abc': 'jumbo shrimp', 'seed': True, 'tree': 'tall'},\n",
       " {'a': 1.02, 'b': 3.333, 'c': True},\n",
       " {'abc': 'jumbo shrimp', 'seed': True, 'tree': 'tall'}]"
      ]
     },
     "execution_count": 32,
     "metadata": {},
     "output_type": "execute_result"
    }
   ],
   "source": [
    "out.data"
   ]
  },
  {
   "cell_type": "code",
   "execution_count": null,
   "metadata": {
    "collapsed": true
   },
   "outputs": [],
   "source": []
  }
 ],
 "metadata": {
  "kernelspec": {
   "display_name": "Python 2",
   "language": "python",
   "name": "python2"
  },
  "language_info": {
   "codemirror_mode": {
    "name": "ipython",
    "version": 2
   },
   "file_extension": ".py",
   "mimetype": "text/x-python",
   "name": "python",
   "nbconvert_exporter": "python",
   "pygments_lexer": "ipython2",
   "version": "2.7.10"
  }
 },
 "nbformat": 4,
 "nbformat_minor": 0
}
